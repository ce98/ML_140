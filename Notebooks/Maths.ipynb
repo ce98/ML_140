{
 "cells": [
  {
   "cell_type": "code",
   "execution_count": 7,
   "metadata": {},
   "outputs": [
    {
     "data": {
      "text/plain": [
       "7"
      ]
     },
     "execution_count": 7,
     "metadata": {},
     "output_type": "execute_result"
    }
   ],
   "source": [
    "2+5"
   ]
  },
  {
   "cell_type": "code",
   "execution_count": 6,
   "metadata": {},
   "outputs": [
    {
     "name": "stdout",
     "output_type": "stream",
     "text": [
      "Factorial of 5 is 120\n"
     ]
    }
   ],
   "source": [
    "def factorial(n):\n",
    "    return 1 if (n==1 or n==0) else n*factorial(n-1);  # ternary operator.\n",
    "n=5;\n",
    "print(\"Factorial of\",n,\"is\",factorial(n))\n",
    "\n",
    "    "
   ]
  },
  {
   "cell_type": "code",
   "execution_count": 5,
   "metadata": {},
   "outputs": [
    {
     "name": "stdout",
     "output_type": "stream",
     "text": [
      "Enter the principle amount: 45000\n",
      "Enter the float amount: 3.5\n",
      "Enter the number of years: 6.5\n",
      "SI is:10237.5\n"
     ]
    }
   ],
   "source": [
    "P=float(input(\"Enter the principle amount: \"))\n",
    "R=float(input(\"Enter the float amount: \"))\n",
    "N=float(input(\"Enter the number of years: \"))\n",
    "\n",
    "SI=(P*R*N)/100;\n",
    "\n",
    "print(\"SI is:{}\".format(SI))\n",
    "    "
   ]
  },
  {
   "cell_type": "code",
   "execution_count": null,
   "metadata": {},
   "outputs": [],
   "source": [
    "def compound_interest(p, r, t):\n",
    "    CI=p*(pow((1+r/100),t))\n",
    "    print(\"Compound Interest is:\", CI)\n",
    "    compound_interest(45000, 2, 4)"
   ]
  },
  {
   "cell_type": "code",
   "execution_count": 4,
   "metadata": {
    "scrolled": true
   },
   "outputs": [
    {
     "name": "stdout",
     "output_type": "stream",
     "text": [
      "Enter the principle amount: 45000\n",
      "Enter the rate amount: 2.5\n",
      "Enter the number of years: 4.5\n",
      "Amount is 50288.64\n",
      "Interest is 5288.64\n"
     ]
    }
   ],
   "source": [
    "def compound_interest(pr, ra, ti):\n",
    "    result=pr*(pow((1+ra/100),ti))\n",
    "    return result\n",
    "p=float(input(\"Enter the principle amount: \"))\n",
    "r=float(input(\"Enter the rate amount: \"))\n",
    "t=float(input(\"Enter the number of years: \"))\n",
    "\n",
    "amount=compound_interest(p, r, t)\n",
    "interest=amount-p\n",
    "print(\"Amount is %.2f\" %amount)\n",
    "print(\"Interest is %.2f\" %interest)\n",
    "\n"
   ]
  },
  {
   "cell_type": "code",
   "execution_count": null,
   "metadata": {},
   "outputs": [],
   "source": [
    "def power(x, y): \n",
    "    if y==0: \n",
    "        return 1\n",
    "    if y%2==0: \n",
    "        return power(x, y/2)*power(x, y/2) \n",
    "    return x*power(x, y/2)*power(x, y/2) \n",
    "  \n",
    "# Function to calculate order of the number \n",
    "def order(x): \n",
    "  \n",
    "    # variable to store of the number \n",
    "    n = 0\n",
    "    while (x!=0): \n",
    "        n = n+1\n",
    "        x = x/10\n",
    "    return n\n",
    "def isArmstrong (x): \n",
    "    n = order(x) \n",
    "    temp = x \n",
    "    sum1 = 0\n",
    "    while (temp!=0): \n",
    "        r = temp%10\n",
    "        sum1 = sum1 + power(r, n) \n",
    "        temp = temp/10\n",
    "  \n",
    "    # If condition satisfies \n",
    "    return (sum1 == x) \n",
    "  \n",
    "  \n",
    "# Driver Program \n",
    "x = 153\n",
    "print(isArmstrong(x)) \n",
    "x = 1253\n",
    "print(isArmstrong(x)) "
   ]
  },
  {
   "cell_type": "code",
   "execution_count": 3,
   "metadata": {},
   "outputs": [
    {
     "name": "stdout",
     "output_type": "stream",
     "text": [
      "Enter the radius of the circle :7\n",
      "Area of the circle is : 153.86\n"
     ]
    }
   ],
   "source": [
    "PI = 3.14\n",
    "r = float(input('Enter the radius of the circle :'))       # To calculate the area of a circle.\n",
    "area = PI * r * r\n",
    "print(\"Area of the circle is : %.2f\" %area)"
   ]
  },
  {
   "cell_type": "code",
   "execution_count": 2,
   "metadata": {},
   "outputs": [
    {
     "name": "stdout",
     "output_type": "stream",
     "text": [
      "Prime numbers between 11 and 25 are:\n",
      "11\n",
      "13\n",
      "17\n",
      "19\n",
      "23\n"
     ]
    }
   ],
   "source": [
    "start = 11\n",
    "end = 25\n",
    "print(\"Prime numbers between\", start, \"and\", end, \"are:\")\n",
    "  \n",
    "for val in range(start, end + 1):                 # To check the prime numbers between the range of 11-25. \n",
    "      \n",
    "   \n",
    "   if val > 1: \n",
    "       for n in range(2, val): \n",
    "           if (val % n) == 0: \n",
    "               break\n",
    "       else: \n",
    "           print(val)"
   ]
  },
  {
   "cell_type": "code",
   "execution_count": 11,
   "metadata": {},
   "outputs": [
    {
     "name": "stdout",
     "output_type": "stream",
     "text": [
      "13 is a prime number\n"
     ]
    }
   ],
   "source": [
    "num=13\n",
    "if num > 1: \n",
    "        \n",
    "   for i in range(2, num//2): \n",
    "           \n",
    "       if (num % i) == 0: \n",
    "           print(num, \"is not a prime number\")    #To check if the number is prime or not.\n",
    "           break\n",
    "   else: \n",
    "       print(num, \"is a prime number\") \n",
    "  \n",
    "else: \n",
    "   print(num, \"is not a prime number\")"
   ]
  },
  {
   "cell_type": "code",
   "execution_count": 17,
   "metadata": {},
   "outputs": [
    {
     "name": "stdout",
     "output_type": "stream",
     "text": [
      "3\n"
     ]
    }
   ],
   "source": [
    "def Fibonacci(n):\n",
    "    if n<0:\n",
    "        print(\"Enter a positive number: \")\n",
    "    elif n==1:\n",
    "        \n",
    "        return 0                                      #To check the Fibonacci Sequence \n",
    "    elif n==2:\n",
    "        return 1\n",
    "    else:\n",
    "        return Fibonacci(n-1)+Fibonacci(n-2)\n",
    "            \n",
    "print (Fibonacci(5))"
   ]
  },
  {
   "cell_type": "code",
   "execution_count": 23,
   "metadata": {},
   "outputs": [
    {
     "name": "stdout",
     "output_type": "stream",
     "text": [
      "The ASCII value of  A  is:  65\n"
     ]
    }
   ],
   "source": [
    "z = 'A'                                              #To check the ascii value of any given alphabet\n",
    "print(\"The ASCII value of \" + ' A ' + \" is: \" ,ord(z)) "
   ]
  },
  {
   "cell_type": "code",
   "execution_count": 24,
   "metadata": {},
   "outputs": [
    {
     "name": "stdout",
     "output_type": "stream",
     "text": [
      "30\n"
     ]
    }
   ],
   "source": [
    "def squaresum(n) :\n",
    "   return (n * (n + 1) * (2 * n + 1)) // 6           #To calculate the sum of squares.\n",
    "n = 4\n",
    "print(squaresum(n))"
   ]
  },
  {
   "cell_type": "code",
   "execution_count": 25,
   "metadata": {},
   "outputs": [
    {
     "name": "stdout",
     "output_type": "stream",
     "text": [
      "225.0\n"
     ]
    }
   ],
   "source": [
    "def cubesum(n) :\n",
    "    return (n *(n+1)/2)**2                           #To calculate the sum of cube.\n",
    "n=5\n",
    "print(cubesum(n))"
   ]
  },
  {
   "cell_type": "code",
   "execution_count": null,
   "metadata": {},
   "outputs": [],
   "source": []
  }
 ],
 "metadata": {
  "kernelspec": {
   "display_name": "Python 3",
   "language": "python",
   "name": "python3"
  },
  "language_info": {
   "codemirror_mode": {
    "name": "ipython",
    "version": 3
   },
   "file_extension": ".py",
   "mimetype": "text/x-python",
   "name": "python",
   "nbconvert_exporter": "python",
   "pygments_lexer": "ipython3",
   "version": "3.7.0"
  }
 },
 "nbformat": 4,
 "nbformat_minor": 2
}
