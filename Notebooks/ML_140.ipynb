{
 "cells": [
  {
   "cell_type": "markdown",
   "metadata": {},
   "source": [
    "# NAIVE BAYES\n",
    "\n",
    "* In machine learning, a Bayes classifier is a simple probabilistic classifier, which is based on applying Bayes' theorem.\n",
    "\n",
    "![](https://miro.medium.com/max/1280/1*7lg_uLm8_1fYGjxPbTrQFQ.png)\n",
    "\n"
   ]
  },
  {
   "cell_type": "code",
   "execution_count": 3,
   "metadata": {
    "ExecuteTime": {
     "end_time": "2019-12-10T09:54:56.720277Z",
     "start_time": "2019-12-10T09:54:55.559543Z"
    }
   },
   "outputs": [
    {
     "data": {
      "image/png": "[encoded data removed]",
      "text/plain": [
       "<Figure size 432x288 with 1 Axes>"
      ]
     },
     "metadata": {
      "needs_background": "light"
     },
     "output_type": "display_data"
    }
   ],
   "source": [
    "import matplotlib.pyplot as plt  # NAIVE BAYES CLASSIFIER.\n",
    "in_time = [(0, 22), (1, 19), (2, 17), (3, 18),\n",
    "           (4, 16), (5, 15), (6, 9), (7, 7),\n",
    "           (8, 4), (9, 3), (10, 3), (11, 2)]\n",
    "too_late = [(6, 6), (7, 9), (8, 12), (9, 17),\n",
    "            (10, 18), (11, 15), (12, 16), (13, 7),\n",
    "            (14, 8), (15, 5)]\n",
    "\n",
    "%matplotlib inline\n",
    "\n",
    "\n",
    "X, Y = zip(*in_time)\n",
    "\n",
    "X2, Y2 = zip(*too_late)\n",
    "\n",
    "bar_width = 0.9\n",
    "plt.bar(X, Y, bar_width,  color=\"yellow\", alpha=0.75, label=\"in time\")\n",
    "bar_width = 0.8\n",
    "plt.bar(X2, Y2, bar_width,  color=\"green\", alpha=0.75, label=\"too late\")\n",
    "plt.legend(loc='upper right')\n",
    "plt.show()"
   ]
  },
  {
   "cell_type": "code",
   "execution_count": 2,
   "metadata": {
    "ExecuteTime": {
     "end_time": "2019-12-10T09:53:32.068372Z",
     "start_time": "2019-12-10T09:53:29.909391Z"
    }
   },
   "outputs": [
    {
     "name": "stdout",
     "output_type": "stream",
     "text": [
      "[24, 35, 9, 56, 12]\n"
     ]
    }
   ],
   "source": [
    "# Python3 program to swap first\n",
    "# and last element of a list\n",
    "# Swap function\n",
    "\n",
    "\n",
    "def swapList(newList):\n",
    "    size = len(newList)\n",
    "    # Swapping\n",
    "    temp = newList[0]\n",
    "    newList[0] = newList[size - 1]\n",
    "    newList[size - 1] = temp\n",
    "    return newList\n",
    "\n",
    "\n",
    "# Driver code\n",
    "newList = [12, 35, 9, 56, 24]\n",
    "print(swapList(newList))\n",
    "\n",
    "import pandas as pd"
   ]
  },
  {
   "cell_type": "code",
   "execution_count": null,
   "metadata": {},
   "outputs": [],
   "source": [
    "pd.DataFrame()"
   ]
  },
  {
   "cell_type": "markdown",
   "metadata": {},
   "source": [
    "![](https://i.ytimg.com/vi/gCI-ZC7irbY/maxresdefault.jpg)"
   ]
  },
  {
   "cell_type": "code",
   "execution_count": 15,
   "metadata": {},
   "outputs": [
    {
     "name": "stderr",
     "output_type": "stream",
     "text": [
      "D:\\PYTHON_PRACTICE\\lib\\site-packages\\numpy\\core\\numeric.py:501: ComplexWarning: Casting complex values to real discards the imaginary part\n",
      "  return array(a, dtype, copy=False, order=order)\n"
     ]
    },
    {
     "data": {
      "text/plain": [
       "[<matplotlib.lines.Line2D at 0x23b6759eda0>]"
      ]
     },
     "execution_count": 15,
     "metadata": {},
     "output_type": "execute_result"
    },
    {
     "data": {
      "image/png": "[encoded data removed]",
      "text/plain": [
       "<Figure size 432x288 with 1 Axes>"
      ]
     },
     "metadata": {
      "needs_background": "light"
     },
     "output_type": "display_data"
    }
   ],
   "source": [
    "import matplotlib.pyplot as plt\n",
    "import scipy\n",
    "from scipy.fftpack import fftshift\n",
    "import numpy as np\n",
    "\n",
    "x = np.arange(-3, 3, 0.01)            # LAPLACE ESTIMATOR.\n",
    "y = np.zeros(len(x))\n",
    "y[150:450] = 1\n",
    "plt.plot(x, y) # plot of the step function\n",
    "\n",
    "yShift = fftshift(y) # shift of the step function\n",
    "Fourier = scipy.fft(yShift) # Fourier transform of y implementing the FFT\n",
    "Fourier = fftshift(Fourier) # inverse shift of the Fourier Transform\n",
    "plt.plot(Fourier)"
   ]
  },
  {
   "cell_type": "code",
   "execution_count": 18,
   "metadata": {},
   "outputs": [
    {
     "ename": "IndentationError",
     "evalue": "unindent does not match any outer indentation level (<ipython-input-18-346dea32c593>, line 8)",
     "output_type": "error",
     "traceback": [
      "\u001b[1;36m  File \u001b[1;32m\"<ipython-input-18-346dea32c593>\"\u001b[1;36m, line \u001b[1;32m8\u001b[0m\n\u001b[1;33m    def simulate(n):\u001b[0m\n\u001b[1;37m                    ^\u001b[0m\n\u001b[1;31mIndentationError\u001b[0m\u001b[1;31m:\u001b[0m unindent does not match any outer indentation level\n"
     ]
    }
   ],
   "source": [
    "import random\n",
    "def coin_trial():\n",
    "    heads = 0\n",
    "    for i in range(100):\n",
    "        if random.random()<= 0.5:                  # TOTAL PROBABILITY.\n",
    "            heads +=1\n",
    "            return heads\n",
    "     def simulate(n):\n",
    "        trials = []\n",
    "        for i in range(n):\n",
    "              trials.append(coin_trial())\n",
    "    return(sum(trials)/n)\n",
    "    "
   ]
  },
  {
   "cell_type": "markdown",
   "metadata": {},
   "source": [
    "![](https://www.statisticshowto.datasciencecentral.com/wp-content/uploads/2013/09/Variance_Formula.png)"
   ]
  },
  {
   "cell_type": "code",
   "execution_count": 67,
   "metadata": {},
   "outputs": [
    {
     "name": "stdout",
     "output_type": "stream",
     "text": [
      "Variance of sample set is 0.40924\n"
     ]
    }
   ],
   "source": [
    "import statistics  \n",
    "sample = [2.74, 1.23, 2.63, 2.22, 3, 1.98]  \n",
    "print(\"Variance of sample set is % s\"         # VARIANCE.\n",
    "      %(statistics.variance(sample)))"
   ]
  },
  {
   "cell_type": "markdown",
   "metadata": {},
   "source": [
    "![](https://cdn1.byjus.com/wp-content/uploads/2019/08/variance-and-standard-deviation-formula.png)"
   ]
  },
  {
   "cell_type": "code",
   "execution_count": 68,
   "metadata": {},
   "outputs": [
    {
     "name": "stdout",
     "output_type": "stream",
     "text": [
      "Standard Deviation of the sample is 1.5811388300841898 \n",
      "Variance of the sample is 2.5\n"
     ]
    }
   ],
   "source": [
    "import math \n",
    "   \n",
    "sample = [1, 2, 3, 4, 5] \n",
    "   \n",
    "print(\"Standard Deviation of the sample is % s \"   # STANDARD DEVIATION AND VARIANCE.\n",
    "                    %(statistics.stdev(sample))) \n",
    "   \n",
    "print(\"Variance of the sample is % s\" \n",
    "     %(statistics.variance(sample))) "
   ]
  },
  {
   "cell_type": "markdown",
   "metadata": {},
   "source": [
    "![](https://cdn.wallstreetmojo.com/wp-content/uploads/2019/03/Covariance-Formula.jpg)"
   ]
  },
  {
   "cell_type": "code",
   "execution_count": 26,
   "metadata": {},
   "outputs": [
    {
     "name": "stdout",
     "output_type": "stream",
     "text": [
      "[[1.66666667 1.66666667]\n",
      " [1.66666667 1.66666667]]\n"
     ]
    }
   ],
   "source": [
    "import numpy as np \n",
    "  \n",
    "x = [1, 2, 3, 4] \n",
    "  \n",
    "y = [4, 5, 6, 7] \n",
    "  \n",
    "cov_mat = np.stack((x, y), axis = 0)  \n",
    "  \n",
    "print(np.cov(cov_mat))"
   ]
  },
  {
   "cell_type": "markdown",
   "metadata": {},
   "source": [
    "![](https://miro.medium.com/max/3426/1*-ycNEMicMOIR8WvzcBzERA@2x.jpeg)"
   ]
  },
  {
   "cell_type": "code",
   "execution_count": 65,
   "metadata": {},
   "outputs": [
    {
     "data": {
      "text/plain": [
       "-2.0000000000000004"
      ]
     },
     "execution_count": 65,
     "metadata": {},
     "output_type": "execute_result"
    }
   ],
   "source": [
    "import numpy.linalg as m\n",
    "\n",
    "matrix1 = np.matrix([[1, 2], [3, 4]])\n",
    "matrix1\n",
    "m.det(matrix1)"
   ]
  },
  {
   "cell_type": "markdown",
   "metadata": {},
   "source": [
    "![](https://www.w3resource.com/w3r_images/python-conditional-image-exercise-40.png)"
   ]
  },
  {
   "cell_type": "code",
   "execution_count": 3,
   "metadata": {
    "ExecuteTime": {
     "end_time": "2019-12-10T10:03:41.925659Z",
     "start_time": "2019-12-10T10:03:41.917659Z"
    }
   },
   "outputs": [
    {
     "name": "stdout",
     "output_type": "stream",
     "text": [
      "Median is: 55\n"
     ]
    }
   ],
   "source": [
    "n_num = [25, 55, 65]\n",
    "n = len(n_num)\n",
    "n_num.sort()\n",
    "\n",
    "if n % 2 == 0:\n",
    "    median1 = n_num[n//2]\n",
    "    median2 = n_num[n/2-1]\n",
    "    median = (median1 + median2)/2\n",
    "else:\n",
    "    median = n_num[n//2]\n",
    "    print(\"Median is: \" + str(median))"
   ]
  },
  {
   "cell_type": "markdown",
   "metadata": {},
   "source": [
    "![](https://i1.wp.com/dataaspirant.com/wp-content/uploads/2015/04/euclidean.png)"
   ]
  },
  {
   "cell_type": "code",
   "execution_count": 5,
   "metadata": {
    "ExecuteTime": {
     "end_time": "2019-12-10T10:10:31.562523Z",
     "start_time": "2019-12-10T10:10:31.558494Z"
    }
   },
   "outputs": [
    {
     "name": "stdout",
     "output_type": "stream",
     "text": [
      "Euclidean distance from x to y:  4.69041575982343\n"
     ]
    }
   ],
   "source": [
    "import math\n",
    "x = (5, 6, 7)\n",
    "y = (8, 9, 9)\n",
    "distance = math.sqrt(sum([(a - b) ** 2 for a, b in zip(x, y)]))\n",
    "print(\"Euclidean distance from x to y: \", distance)"
   ]
  },
  {
   "cell_type": "markdown",
   "metadata": {},
   "source": [
    "![](https://revisionworld.com/sites/revisionworld.com/files/imce/second%20derivative.gif)"
   ]
  },
  {
   "cell_type": "code",
   "execution_count": 6,
   "metadata": {
    "ExecuteTime": {
     "end_time": "2019-12-10T10:23:20.276139Z",
     "start_time": "2019-12-10T10:23:18.722037Z"
    }
   },
   "outputs": [
    {
     "data": {
      "text/plain": [
       "2*x + 2"
      ]
     },
     "execution_count": 6,
     "metadata": {},
     "output_type": "execute_result"
    }
   ],
   "source": [
    "import sympy\n",
    "x = sympy.Symbol('x')\n",
    "sympy.diff(x**2+2*x, x)"
   ]
  },
  {
   "cell_type": "markdown",
   "metadata": {},
   "source": [
    "![](https://revisionworld.com/sites/revisionworld.com/files/imce/int1.gif)"
   ]
  },
  {
   "cell_type": "code",
   "execution_count": 8,
   "metadata": {
    "ExecuteTime": {
     "end_time": "2019-12-10T10:35:57.149516Z",
     "start_time": "2019-12-10T10:35:55.782841Z"
    }
   },
   "outputs": [
    {
     "name": "stdout",
     "output_type": "stream",
     "text": [
      "0.33333333333333337\n"
     ]
    }
   ],
   "source": [
    "from scipy.integrate import quad\n",
    "\n",
    "\n",
    "def integrand(x):\n",
    "    return x**2\n",
    "\n",
    "\n",
    "ans, err = quad(integrand, 0, 1)\n",
    "print(ans)"
   ]
  },
  {
   "cell_type": "code",
   "execution_count": null,
   "metadata": {},
   "outputs": [],
   "source": []
  }
 ],
 "metadata": {
  "kernelspec": {
   "display_name": "Python 3",
   "language": "python",
   "name": "python3"
  },
  "language_info": {
   "codemirror_mode": {
    "name": "ipython",
    "version": 3
   },
   "file_extension": ".py",
   "mimetype": "text/x-python",
   "name": "python",
   "nbconvert_exporter": "python",
   "pygments_lexer": "ipython3",
   "version": "3.7.0"
  },
  "latex_envs": {
   "LaTeX_envs_menu_present": true,
   "autoclose": false,
   "autocomplete": true,
   "bibliofile": "biblio.bib",
   "cite_by": "apalike",
   "current_citInitial": 1,
   "eqLabelWithNumbers": true,
   "eqNumInitial": 1,
   "hotkeys": {
    "equation": "Ctrl-E",
    "itemize": "Ctrl-I"
   },
   "labels_anchors": false,
   "latex_user_defs": false,
   "report_style_numbering": false,
   "user_envs_cfg": false
  },
  "nbTranslate": {
   "displayLangs": [
    "*"
   ],
   "hotkey": "alt-t",
   "langInMainMenu": true,
   "sourceLang": "en",
   "targetLang": "fr",
   "useGoogleTranslate": true
  },
  "toc": {
   "base_numbering": 1,
   "nav_menu": {},
   "number_sections": true,
   "sideBar": true,
   "skip_h1_title": false,
   "title_cell": "Table of Contents",
   "title_sidebar": "Contents",
   "toc_cell": false,
   "toc_position": {},
   "toc_section_display": true,
   "toc_window_display": false
  }
 },
 "nbformat": 4,
 "nbformat_minor": 2
}
